{
 "cells": [
  {
   "cell_type": "code",
   "execution_count": 1,
   "id": "74f3013c",
   "metadata": {},
   "outputs": [],
   "source": [
    "from rdkit import Chem\n",
    "from rdkit.Chem.Fingerprints import FingerprintMols\n",
    "import pandas as pd\n",
    "from molvs import standardize_smiles\n",
    "from openbabel import pybel"
   ]
  },
  {
   "cell_type": "code",
   "execution_count": 2,
   "id": "65655407",
   "metadata": {},
   "outputs": [],
   "source": [
    " def CalculateFP2Fingerprint(mol):\n",
    "    res = {}\n",
    "    NumFinger = 1024\n",
    "    temp = mol.calcfp().bits\n",
    "    for i in temp:\n",
    "        res.update({i: 1})\n",
    "\n",
    "    return NumFinger, res"
   ]
  },
  {
   "cell_type": "code",
   "execution_count": 3,
   "id": "ebeef2e7",
   "metadata": {},
   "outputs": [],
   "source": [
    "# mol = Chem.MolFromSmiles(\"CCCN(N=C)C(C)C(=O)NO\")\n",
    "# x = CalculateFP2Fingerprint(mol)\n",
    "# x\n",
    "\n",
    "# smi = 'CCC1(c2ccccc2)C(=O)N(C)C(=N1)O'\n",
    "# mol = pybel.readstring(\"smi\", smi)\n",
    "# mol_fingerprint = CalculateFP2Fingerprint(mol)\n",
    "# print(len(mol_fingerprint[1]))\n",
    "\n",
    "filename = 'temp.csv'\n",
    "df = pd.read_csv(filename)               \n",
    "smiles = [standardize_smiles(i) for i in df['smiles'].values] \n",
    "all_ecfp2_data = []\n",
    "df = pd.DataFrame()\n",
    "for smile in smiles:\n",
    "    mol = pybel.readstring(\"smi\", smile)\n",
    "    result=CalculateFP2Fingerprint(mol)\n",
    "    df = pd.concat([df, pd.DataFrame([result])], ignore_index=True)\n",
    "\n",
    "df.insert(loc = 0,\n",
    "          column = \"smiles\",\n",
    "          value = smiles)\n",
    "   \n",
    "df.to_csv('output_FP2.csv', index=False)"
   ]
  },
  {
   "cell_type": "code",
   "execution_count": null,
   "id": "cf090ae0",
   "metadata": {},
   "outputs": [],
   "source": []
  }
 ],
 "metadata": {
  "kernelspec": {
   "display_name": "Python 3 (ipykernel)",
   "language": "python",
   "name": "python3"
  },
  "language_info": {
   "codemirror_mode": {
    "name": "ipython",
    "version": 3
   },
   "file_extension": ".py",
   "mimetype": "text/x-python",
   "name": "python",
   "nbconvert_exporter": "python",
   "pygments_lexer": "ipython3",
   "version": "3.10.9"
  }
 },
 "nbformat": 4,
 "nbformat_minor": 5
}
