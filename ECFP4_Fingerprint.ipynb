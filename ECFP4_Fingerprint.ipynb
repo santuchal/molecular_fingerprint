{
 "cells": [
  {
   "cell_type": "code",
   "execution_count": 1,
   "id": "4a24f4b1",
   "metadata": {},
   "outputs": [],
   "source": [
    "from rdkit.Chem import AllChem\n",
    "from rdkit import Chem\n",
    "import pandas as pd\n",
    "from molvs import standardize_smiles"
   ]
  },
  {
   "cell_type": "code",
   "execution_count": 2,
   "id": "3e749e47",
   "metadata": {},
   "outputs": [],
   "source": [
    "def CalculateECFP4Fingerprint(mol, radius=2):\n",
    "    res = AllChem.GetMorganFingerprint(mol, radius)\n",
    "    fp = tuple(AllChem.GetMorganFingerprintAsBitVect(mol, radius, nBits=1024))\n",
    "    return fp, res.GetNonzeroElements(), res"
   ]
  },
  {
   "cell_type": "code",
   "execution_count": 3,
   "id": "061f35fe",
   "metadata": {},
   "outputs": [],
   "source": [
    "filename = 'temp.csv'\n",
    "df = pd.read_csv(filename)               \n",
    "smiles = [standardize_smiles(i) for i in df['smiles'].values] \n",
    "all_ecfp2_data = []\n",
    "df = pd.DataFrame()\n",
    "for smile in smiles:\n",
    "    mol = Chem.MolFromSmiles(smile)\n",
    "    result=CalculateECFP4Fingerprint(mol)\n",
    "    df = pd.concat([df, pd.DataFrame([result])], ignore_index=True)\n",
    "\n",
    "df.insert(loc = 0,\n",
    "          column = \"smiles\",\n",
    "          value = smiles)\n",
    "   \n",
    "df.to_csv('output_ECFP4.csv', index=False)"
   ]
  },
  {
   "cell_type": "code",
   "execution_count": null,
   "id": "22ff6b88",
   "metadata": {},
   "outputs": [],
   "source": []
  }
 ],
 "metadata": {
  "kernelspec": {
   "display_name": "Python 3 (ipykernel)",
   "language": "python",
   "name": "python3"
  },
  "language_info": {
   "codemirror_mode": {
    "name": "ipython",
    "version": 3
   },
   "file_extension": ".py",
   "mimetype": "text/x-python",
   "name": "python",
   "nbconvert_exporter": "python",
   "pygments_lexer": "ipython3",
   "version": "3.10.9"
  }
 },
 "nbformat": 4,
 "nbformat_minor": 5
}
