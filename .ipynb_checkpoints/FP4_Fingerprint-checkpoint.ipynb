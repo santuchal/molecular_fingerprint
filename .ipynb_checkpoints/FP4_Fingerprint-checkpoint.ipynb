{
 "cells": [
  {
   "cell_type": "code",
   "execution_count": 1,
   "id": "ab4240df",
   "metadata": {},
   "outputs": [],
   "source": [
    "from rdkit import Chem\n",
    "from rdkit.Chem.Fingerprints import FingerprintMols\n",
    "import pandas as pd\n",
    "from molvs import standardize_smiles\n",
    "from openbabel import pybel"
   ]
  },
  {
   "cell_type": "code",
   "execution_count": 2,
   "id": "d816ec35",
   "metadata": {},
   "outputs": [],
   "source": [
    "def CalculateFP4Fingerprint(mol):\n",
    "    res = {}\n",
    "    NumFinger = 307\n",
    "    temp = mol.calcfp(\"FP4\").bits\n",
    "    for i in temp:\n",
    "        res.update({i: 1})\n",
    "\n",
    "    return NumFinger, res"
   ]
  },
  {
   "cell_type": "code",
   "execution_count": 3,
   "id": "7dab3c42",
   "metadata": {},
   "outputs": [],
   "source": [
    "filename = './data/temp.csv'\n",
    "df = pd.read_csv(filename)               \n",
    "smiles = [standardize_smiles(i) for i in df['smiles'].values] \n",
    "all_ecfp2_data = []\n",
    "df = pd.DataFrame()\n",
    "for smile in smiles:\n",
    "    mol = pybel.readstring(\"smi\", smile)\n",
    "    result=CalculateFP4Fingerprint(mol)\n",
    "    df = pd.concat([df, pd.DataFrame([result])], ignore_index=True)\n",
    "\n",
    "df.insert(loc = 0,\n",
    "          column = \"smiles\",\n",
    "          value = smiles)\n",
    "   \n",
    "df.to_csv('./output/output_FP4.csv', index=False)"
   ]
  },
  {
   "cell_type": "code",
   "execution_count": null,
   "id": "fa2cd26c",
   "metadata": {},
   "outputs": [],
   "source": []
  }
 ],
 "metadata": {
  "kernelspec": {
   "display_name": "Python 3 (ipykernel)",
   "language": "python",
   "name": "python3"
  },
  "language_info": {
   "codemirror_mode": {
    "name": "ipython",
    "version": 3
   },
   "file_extension": ".py",
   "mimetype": "text/x-python",
   "name": "python",
   "nbconvert_exporter": "python",
   "pygments_lexer": "ipython3",
   "version": "3.10.9"
  }
 },
 "nbformat": 4,
 "nbformat_minor": 5
}
