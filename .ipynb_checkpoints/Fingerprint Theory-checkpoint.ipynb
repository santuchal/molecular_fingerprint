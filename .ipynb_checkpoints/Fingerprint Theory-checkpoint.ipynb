{
 "cells": [
  {
   "cell_type": "markdown",
   "id": "54c2dd8e",
   "metadata": {},
   "source": [
    "# Molecular Fingerprint\n",
    "\n",
    "\n",
    "# Definition:\n",
    "\n",
    "Fingerprints entail a conceptual depiction of specific structural attributes within a molecule."
   ]
  },
  {
   "cell_type": "markdown",
   "id": "912f7f15",
   "metadata": {},
   "source": [
    "# Usage of Molecular Fingerprint:\n",
    "\n",
    "## 1.  Search and Comparison\n",
    "Given a potent active molecule, find similar ones or reverse(dissimilar) but also potent.\n",
    "## 2.  Prediction\n",
    "Given a set of active & inactive molecules build a model to predict which members from a large collection will be active\n",
    "## 3.  Clustering\n",
    "Given a set of molecules, do they cluster into structurally different groups. \n"
   ]
  },
  {
   "cell_type": "markdown",
   "id": "ec795c52",
   "metadata": {},
   "source": [
    "# Types of Molecular Fingerprint\n",
    "\n",
    "Numerous varieties of fingerprints exist, with 'keyed' fingerprints denoting the presence or absence of distinct structural attributes. The length of these fingerprints can range from 166 to 4096 bits or even more."
   ]
  },
  {
   "cell_type": "markdown",
   "id": "39c19a8f",
   "metadata": {},
   "source": [
    "### **Types of Molecular Finger Print:**\n",
    "\n",
    "*   [x] **[FP2](./FP2_Fingerprint.ipynb)**\n",
    "*   [x] **[FP3](./FP3_Fingerprint.ipynb.ipynb)**\n",
    "*   [x] **[FP4]((./FP4_Fingerprint.ipynb)**\n",
    "*   [x] **[Topological/Daylight](./DayLight_Fingerprint.ipynb)**\n",
    "*   [ ] **Estate**\n",
    "*   [x] **[Atompair](./AtomPairsFingerprint.ipynb)**\n",
    "*   [x] **[Torsions/Topological Torsion](./TopologicalTorsionFingerprint.ipynb)**\n",
    "*   [x] **[MorganFingerprint](./MorganFingerprint.ipynb)**\n",
    "*   [x] **[ECFP2](./ECFP2_Fingerprint.ipynb) (ECFP- Extended Connectivity Fingerprint)**\n",
    "*   [x] **[ECFP4](./ECFP4_Fingerprint.ipynb)**\n",
    "*   [x] **[ECFP6](./ECFP6_Fingerprint.ipynb)**\n",
    "*   [x] **[MACCS](./MACCS_Fingerprints.ipynb) (MACCS - Molecular Access System Structure)**\n",
    "*   [x] **[FCFP2](./FCFP2Fingerprint.ipynb) (FCFP- Feature Class Fingerprint)**\n",
    "*   [x] **[FCFP4](./FCFP4Fingerprint.ipynb)**\n",
    "*   [x] **[FCFP6](./FCFP2Fingerprint.ipynb)**\n",
    "*   [x] **[Pharma 2D 2Point](./Pharm2D2pointFingerprint.ipynb)**\n",
    "*   [ ] **Pharma 2D 3Point**\n",
    "*   [ ] **PubChem**\n",
    "*   [x] **[GhoseCrippen](./Ghose_Crippen_FP.ipynb)**"
   ]
  },
  {
   "cell_type": "code",
   "execution_count": null,
   "id": "68a9c391",
   "metadata": {},
   "outputs": [],
   "source": []
  }
 ],
 "metadata": {
  "kernelspec": {
   "display_name": "Python 3 (ipykernel)",
   "language": "python",
   "name": "python3"
  },
  "language_info": {
   "codemirror_mode": {
    "name": "ipython",
    "version": 3
   },
   "file_extension": ".py",
   "mimetype": "text/x-python",
   "name": "python",
   "nbconvert_exporter": "python",
   "pygments_lexer": "ipython3",
   "version": "3.10.9"
  }
 },
 "nbformat": 4,
 "nbformat_minor": 5
}
