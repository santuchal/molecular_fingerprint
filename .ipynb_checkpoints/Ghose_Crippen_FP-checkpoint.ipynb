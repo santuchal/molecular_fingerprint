{
 "cells": [
  {
   "cell_type": "code",
   "execution_count": 1,
   "id": "a9503843",
   "metadata": {},
   "outputs": [],
   "source": [
    "import os\n",
    "import string\n",
    "from rdkit import Chem\n",
    "import pandas as pd\n",
    "from molvs import standardize_smiles"
   ]
  },
  {
   "cell_type": "code",
   "execution_count": 2,
   "id": "935d68ca",
   "metadata": {},
   "outputs": [],
   "source": [
    "def _ReadPatts(fileName):\n",
    "    patts = {}\n",
    "    order = []\n",
    "    with open(fileName, \"r\") as f:\n",
    "        lines = f.readlines()\n",
    "    for line in lines:\n",
    "        if line[0] != \"#\":\n",
    "            splitLine = line.split(\"\\t\")\n",
    "            if len(splitLine) >= 4 and splitLine[0] != \"\":\n",
    "                sma = splitLine[1]\n",
    "                if sma != \"SMARTS\":\n",
    "                    sma.replace('\"', \"\")\n",
    "                    p = Chem.MolFromSmarts(sma)\n",
    "                    if p:\n",
    "                        cha = splitLine[0].strip()\n",
    "                        if cha not in order:\n",
    "                            order.append(cha)\n",
    "                        l = patts.get(cha, [])\n",
    "                        l.append((sma, p))\n",
    "                        patts[cha] = l\n",
    "                else:\n",
    "                    print(\"Problems parsing smarts: %s\" % (sma))\n",
    "    return order, patts"
   ]
  },
  {
   "cell_type": "code",
   "execution_count": 3,
   "id": "c32e5422",
   "metadata": {},
   "outputs": [],
   "source": [
    "def GhoseCrippenFingerprint(mol, count=False):\n",
    "    order, patts = _ReadPatts(\"Crippen.txt\")\n",
    "\n",
    "    GCres = dict()\n",
    "    for sma in patts:\n",
    "        match = mol.GetSubstructMatches(patts[sma][0][1], False, False)\n",
    "        temp = len([i[0] for i in match])\n",
    "        GCres.update({sma: temp})\n",
    "\n",
    "    res = {}\n",
    "    if count == False:\n",
    "        for i in GCres:\n",
    "            if GCres[i] > 0:\n",
    "                res.update({i: 1})\n",
    "            else:\n",
    "                res.update({i: 0})\n",
    "    else:\n",
    "        res = GCres\n",
    "\n",
    "    return res\n",
    "\n"
   ]
  },
  {
   "cell_type": "code",
   "execution_count": null,
   "id": "15fcdef6",
   "metadata": {},
   "outputs": [],
   "source": [
    "\n",
    "filename = './data/temp.csv'\n",
    "df = pd.read_csv(filename)               \n",
    "smiles = [standardize_smiles(i) for i in df['smiles'].values] \n",
    "all_ecfp2_data = []\n",
    "df = pd.DataFrame()\n",
    "for smile in smiles:\n",
    "    mol = Chem.MolFromSmiles(smile)\n",
    "    result=GhoseCrippenFingerprint(mol, count=True)\n",
    "    df = pd.concat([df, pd.DataFrame([result])], ignore_index=True)\n",
    "\n",
    "df.insert(loc = 0,\n",
    "          column = \"smiles\",\n",
    "          value = smiles)\n",
    "   \n",
    "df.to_csv('./output/output_Ghose_Crippen_FP.csv', index=False)"
   ]
  },
  {
   "cell_type": "code",
   "execution_count": null,
   "id": "fc6b8780",
   "metadata": {},
   "outputs": [],
   "source": []
  }
 ],
 "metadata": {
  "kernelspec": {
   "display_name": "Python 3 (ipykernel)",
   "language": "python",
   "name": "python3"
  },
  "language_info": {
   "codemirror_mode": {
    "name": "ipython",
    "version": 3
   },
   "file_extension": ".py",
   "mimetype": "text/x-python",
   "name": "python",
   "nbconvert_exporter": "python",
   "pygments_lexer": "ipython3",
   "version": "3.10.9"
  }
 },
 "nbformat": 4,
 "nbformat_minor": 5
}
