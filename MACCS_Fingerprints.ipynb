{
 "cells": [
  {
   "cell_type": "code",
   "execution_count": 1,
   "id": "417d8dec",
   "metadata": {},
   "outputs": [],
   "source": [
    "import pandas as pd\n",
    "from rdkit import Chem\n",
    "from rdkit.Chem import MACCSkeys\n",
    "from molvs import standardize_smiles"
   ]
  },
  {
   "cell_type": "code",
   "execution_count": 2,
   "id": "8a16d7fb",
   "metadata": {},
   "outputs": [],
   "source": [
    "def compute_MACCS(smiles):\n",
    "    mols = [Chem.MolFromSmiles(i) for i in smiles]\n",
    "    MACCS_list = []\n",
    "    header = ['bit' + str(i) for i in range(167)]\n",
    "    for i in range(len(mols)):\n",
    "        ds = list(MACCSkeys.GenMACCSKeys(mols[i]).ToBitString())\n",
    "        MACCS_list.append(ds)\n",
    "    df = pd.DataFrame(MACCS_list,columns=header)\n",
    "    df.insert(loc=0, column='smiles', value=smiles)\n",
    "    df.to_csv('output_MACCS.csv', index=False)"
   ]
  },
  {
   "cell_type": "code",
   "execution_count": 3,
   "id": "291d89cb",
   "metadata": {},
   "outputs": [],
   "source": [
    "filename = 'temp.csv'  # path to your csv file\n",
    "df = pd.read_csv(filename)               # read the csv file as pandas data frame\n",
    "smiles = [standardize_smiles(i) for i in df['smiles'].values]  \n",
    "\n",
    "## Compute MACCS Fingerprints and export file.\n",
    "maccs_descriptor = compute_MACCS(smiles) "
   ]
  },
  {
   "cell_type": "code",
   "execution_count": null,
   "id": "c17c82d5",
   "metadata": {},
   "outputs": [],
   "source": []
  }
 ],
 "metadata": {
  "kernelspec": {
   "display_name": "Python 3 (ipykernel)",
   "language": "python",
   "name": "python3"
  },
  "language_info": {
   "codemirror_mode": {
    "name": "ipython",
    "version": 3
   },
   "file_extension": ".py",
   "mimetype": "text/x-python",
   "name": "python",
   "nbconvert_exporter": "python",
   "pygments_lexer": "ipython3",
   "version": "3.10.9"
  }
 },
 "nbformat": 4,
 "nbformat_minor": 5
}
