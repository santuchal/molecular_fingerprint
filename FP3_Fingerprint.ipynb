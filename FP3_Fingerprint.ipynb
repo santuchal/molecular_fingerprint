{
 "cells": [
  {
   "cell_type": "code",
   "execution_count": 1,
   "id": "fe06dea6",
   "metadata": {},
   "outputs": [],
   "source": [
    "from rdkit import Chem\n",
    "from rdkit.Chem.Fingerprints import FingerprintMols\n",
    "import pandas as pd\n",
    "from molvs import standardize_smiles\n",
    "from openbabel import pybel"
   ]
  },
  {
   "cell_type": "code",
   "execution_count": 2,
   "id": "aec9d613",
   "metadata": {},
   "outputs": [],
   "source": [
    "def CalculateFP3Fingerprint(mol):\n",
    "    res = {}\n",
    "    NumFinger = 210\n",
    "    temp = mol.calcfp(\"FP3\").bits\n",
    "    for i in temp:\n",
    "        res.update({i: 1})\n",
    "\n",
    "    return NumFinger, res"
   ]
  },
  {
   "cell_type": "code",
   "execution_count": 3,
   "id": "69b03529",
   "metadata": {},
   "outputs": [],
   "source": [
    "filename = 'temp.csv'\n",
    "df = pd.read_csv(filename)               \n",
    "smiles = [standardize_smiles(i) for i in df['smiles'].values] \n",
    "all_ecfp2_data = []\n",
    "df = pd.DataFrame()\n",
    "for smile in smiles:\n",
    "    mol = pybel.readstring(\"smi\", smile)\n",
    "    result=CalculateFP3Fingerprint(mol)\n",
    "    df = pd.concat([df, pd.DataFrame([result])], ignore_index=True)\n",
    "\n",
    "df.insert(loc = 0,\n",
    "          column = \"smiles\",\n",
    "          value = smiles)\n",
    "   \n",
    "df.to_csv('output_FP3.csv', index=False)"
   ]
  },
  {
   "cell_type": "code",
   "execution_count": null,
   "id": "234f69b1",
   "metadata": {},
   "outputs": [],
   "source": []
  }
 ],
 "metadata": {
  "kernelspec": {
   "display_name": "Python 3 (ipykernel)",
   "language": "python",
   "name": "python3"
  },
  "language_info": {
   "codemirror_mode": {
    "name": "ipython",
    "version": 3
   },
   "file_extension": ".py",
   "mimetype": "text/x-python",
   "name": "python",
   "nbconvert_exporter": "python",
   "pygments_lexer": "ipython3",
   "version": "3.10.9"
  }
 },
 "nbformat": 4,
 "nbformat_minor": 5
}
